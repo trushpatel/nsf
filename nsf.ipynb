{
 "cells": [
  {
   "cell_type": "code",
   "execution_count": 1,
   "metadata": {},
   "outputs": [],
   "source": [
    "import os\n",
    "import sys\n",
    "\n",
    "spark_path = os.environ['SPARK_HOME']\n",
    "sys.path.append(spark_path + \"/bin\")\n",
    "sys.path.append(spark_path + \"/python\")\n",
    "sys.path.append(spark_path + \"/python/pyspark/\")\n",
    "sys.path.append(spark_path + \"/python/lib\")\n",
    "sys.path.append(spark_path + \"/python/lib/pyspark.zip\")\n",
    "sys.path.append(spark_path + \"/python/lib/py4j-0.10.9-src.zip\")\n",
    "\n",
    "import findspark\n",
    "findspark.init()\n",
    "\n",
    "import pyspark"
   ]
  },
  {
   "cell_type": "code",
   "execution_count": 2,
   "metadata": {},
   "outputs": [],
   "source": [
    "number_cores = 8\n",
    "memory_gb = 8\n",
    "conf = (pyspark.SparkConf().setMaster('local[{}]'.format(number_cores)).set('spark.driver.memory', '{}g'.format(memory_gb)))\n",
    "sc = pyspark.SparkContext(conf=conf)"
   ]
  },
  {
   "cell_type": "code",
   "execution_count": 3,
   "metadata": {},
   "outputs": [],
   "source": [
    "logs = sc.textFile(\"./data/nsf/*\").cache()"
   ]
  },
  {
   "cell_type": "code",
   "execution_count": 144,
   "metadata": {},
   "outputs": [],
   "source": [
    "#echo %cd%"
   ]
  },
  {
   "cell_type": "code",
   "execution_count": 143,
   "metadata": {},
   "outputs": [],
   "source": [
    "#logs.take(10)"
   ]
  },
  {
   "cell_type": "code",
   "execution_count": 142,
   "metadata": {},
   "outputs": [],
   "source": [
    "import glob\n",
    "\n",
    "data_path = \"./data/nsf\"\n",
    "all_files = glob.glob(\"./data/nsf/*.xml\")\n",
    "\n",
    "file_names = sc.parallelize(all_files)\n",
    "#file_names.collect()"
   ]
  },
  {
   "cell_type": "code",
   "execution_count": 141,
   "metadata": {},
   "outputs": [],
   "source": [
    "#file_names.take(5)"
   ]
  },
  {
   "cell_type": "code",
   "execution_count": 15,
   "metadata": {},
   "outputs": [],
   "source": [
    "s = './data/nsf\\\\1200004.xml'\n",
    "s = s.split(\"\\\\\")[1]"
   ]
  },
  {
   "cell_type": "code",
   "execution_count": 140,
   "metadata": {},
   "outputs": [],
   "source": [
    "#s"
   ]
  },
  {
   "cell_type": "code",
   "execution_count": 139,
   "metadata": {},
   "outputs": [],
   "source": [
    "raw_data = file_names.map(lambda f: (f.split(\"\\\\\")[1], open(f,mode='r').read()))\n",
    "#raw_data.take(5)"
   ]
  },
  {
   "cell_type": "code",
   "execution_count": 121,
   "metadata": {},
   "outputs": [],
   "source": [
    "s = raw_data.take(1)"
   ]
  },
  {
   "cell_type": "code",
   "execution_count": 123,
   "metadata": {},
   "outputs": [],
   "source": [
    "import xml.etree.ElementTree as ET"
   ]
  },
  {
   "cell_type": "code",
   "execution_count": 124,
   "metadata": {},
   "outputs": [],
   "source": [
    "elem = ET.fromstring(s[0][1])"
   ]
  },
  {
   "cell_type": "code",
   "execution_count": 145,
   "metadata": {},
   "outputs": [],
   "source": [
    "#for c1 in elem:\n",
    "#    for c2 in c1:\n",
    "#        print(c2.tag)\n",
    "#        for c3 in c2:\n",
    "#            print(\"\\t\", c3.tag)"
   ]
  },
  {
   "cell_type": "code",
   "execution_count": 155,
   "metadata": {},
   "outputs": [],
   "source": [
    "import xml.etree.ElementTree as ET\n",
    "def extractUsefulData(y):\n",
    "    out = []\n",
    "    try:\n",
    "        elem = ET.fromstring(y[1])\n",
    "        for c1 in elem:\n",
    "            for c2 in c1:\n",
    "                if (c2.tag == \"AwardTitle\"):\n",
    "                    out.append((c2.tag, c2.text))\n",
    "                if (c2.tag == \"AwardEffectiveDate\"):\n",
    "                    out.append((c2.tag, c2.text))\n",
    "                if (c2.tag == \"AwardAmount\"):\n",
    "                    out.append((c2.tag, c2.text))\n",
    "                for c3 in c2:\n",
    "                    if (c2.tag == \"Investigator\" and c3.tag == \"NSF_ID\"):\n",
    "                        out.append((c2.tag, c3.tag, c3.text))\n",
    "                    if (c2.tag == \"Performance_Institution\" and c3.tag == \"Name\"):\n",
    "                        out.append((c2.tag, c3.tag, c3.text))\n",
    "                    if (c2.tag == \"ProgramElement\" and c3.tag == \"Text\"):\n",
    "                        out.append((c2.tag, c3.tag, c3.text))\n",
    "                    if (c2.tag == \"Appropriation\" and c3.tag == \"Name\"):\n",
    "                        out.append((c2.tag, c3.tag, c3.text))\n",
    "    except:\n",
    "        out.append((\"Exception\"))\n",
    "    return out"
   ]
  },
  {
   "cell_type": "code",
   "execution_count": 156,
   "metadata": {},
   "outputs": [],
   "source": [
    "useful_data = raw_data.map(lambda x: extractUsefulData(x))"
   ]
  },
  {
   "cell_type": "code",
   "execution_count": 157,
   "metadata": {},
   "outputs": [
    {
     "data": {
      "text/plain": [
       "[[('AwardTitle',\n",
       "   'Collaborative Research: Investigation of Odor-triggered Neuronal Dynamics and Experience-induced Olfactory Learning'),\n",
       "  ('AwardEffectiveDate', '09/15/2012'),\n",
       "  ('AwardAmount', '355586'),\n",
       "  ('Investigator', 'NSF_ID', '000601625'),\n",
       "  ('Performance_Institution', 'Name', 'University of Arizona'),\n",
       "  ('ProgramElement', 'Text', 'MATHEMATICAL BIOLOGY'),\n",
       "  ('ProgramElement', 'Text', 'NIGMS'),\n",
       "  ('Appropriation', 'Name', 'NSF RESEARCH & RELATED ACTIVIT'),\n",
       "  ('Appropriation', 'Name', 'NSF RESEARCH & RELATED ACTIVIT'),\n",
       "  ('Appropriation', 'Name', 'NSF RESEARCH & RELATED ACTIVIT')]]"
      ]
     },
     "execution_count": 157,
     "metadata": {},
     "output_type": "execute_result"
    }
   ],
   "source": [
    "useful_data.take(1)"
   ]
  },
  {
   "cell_type": "code",
   "execution_count": null,
   "metadata": {},
   "outputs": [],
   "source": []
  },
  {
   "cell_type": "markdown",
   "metadata": {},
   "source": [
    "### Who has won multiple awards"
   ]
  },
  {
   "cell_type": "code",
   "execution_count": 23,
   "metadata": {},
   "outputs": [
    {
     "name": "stdout",
     "output_type": "stream",
     "text": [
      "\t NSF_ID 000601625\n"
     ]
    }
   ],
   "source": [
    "for c1 in elem:\n",
    "    for c2 in c1:\n",
    "        #print(c2.tag, c2.text)\n",
    "        for c3 in c2:\n",
    "            if (c3.tag == 'NSF_ID'):\n",
    "                print(\"\\t\", c3.tag, c3.text)"
   ]
  },
  {
   "cell_type": "code",
   "execution_count": null,
   "metadata": {},
   "outputs": [],
   "source": [
    "for n in elem.findall(\"./Award/Investigator/NSF_ID\"):\n",
    "    print(n.text)"
   ]
  },
  {
   "cell_type": "code",
   "execution_count": 75,
   "metadata": {},
   "outputs": [
    {
     "data": {
      "text/plain": [
       "[('000601625', 1)]"
      ]
     },
     "execution_count": 75,
     "metadata": {},
     "output_type": "execute_result"
    }
   ],
   "source": [
    "import xml.etree.ElementTree as ET\n",
    "\n",
    "def getIDCount(e):\n",
    "    PIs = []\n",
    "    try:\n",
    "        elem = ET.fromstring(e[1])\n",
    "        for n in elem.findall(\"./Award/Investigator/NSF_ID\"):\n",
    "            if (n.text != ''):\n",
    "                PIs.append((n.text,1))\n",
    "    except:\n",
    "        PIs.append(('Exception',1))\n",
    "    return PIs\n",
    "getIDCount(s[0])"
   ]
  },
  {
   "cell_type": "code",
   "execution_count": null,
   "metadata": {},
   "outputs": [],
   "source": []
  },
  {
   "cell_type": "code",
   "execution_count": null,
   "metadata": {},
   "outputs": [],
   "source": [
    "tmp = raw_data.flatMap(getIDCount)\n",
    "tmp.count()"
   ]
  },
  {
   "cell_type": "code",
   "execution_count": null,
   "metadata": {},
   "outputs": [],
   "source": [
    "tmp.take(5)"
   ]
  },
  {
   "cell_type": "code",
   "execution_count": null,
   "metadata": {},
   "outputs": [],
   "source": [
    "getAllCount = tmp.countByKey()\n",
    "getAllCount.g"
   ]
  },
  {
   "cell_type": "code",
   "execution_count": null,
   "metadata": {},
   "outputs": [],
   "source": [
    "getAllCount['Exception']"
   ]
  },
  {
   "cell_type": "code",
   "execution_count": null,
   "metadata": {},
   "outputs": [],
   "source": [
    "import xml.etree.ElementTree as ET\n",
    "\n",
    "def getIDCount2(e):\n",
    "    PIs = []\n",
    "    try:\n",
    "        elem = ET.fromstring(e[1])\n",
    "        for n in elem.findall(\"./Award/Investigator/NSF_ID\"):\n",
    "            if (n.text != ''):\n",
    "                PIs.append((n.text,1))\n",
    "    except:\n",
    "        PIs.append((e,0))\n",
    "    return PIs\n",
    "getIDCount(s[0])"
   ]
  },
  {
   "cell_type": "code",
   "execution_count": null,
   "metadata": {},
   "outputs": [],
   "source": [
    "bad_data = raw_data.flatMap(getIDCount2).filter(lambda x: x[1] == 0)\n",
    "bad_data.take(1)"
   ]
  },
  {
   "cell_type": "code",
   "execution_count": null,
   "metadata": {},
   "outputs": [],
   "source": [
    "sb = bad_data.take(1)"
   ]
  },
  {
   "cell_type": "code",
   "execution_count": null,
   "metadata": {},
   "outputs": [],
   "source": [
    "sb[0][0][1]"
   ]
  },
  {
   "cell_type": "code",
   "execution_count": null,
   "metadata": {},
   "outputs": [],
   "source": [
    "lines = sb[0][0][1].split('\\n')"
   ]
  },
  {
   "cell_type": "code",
   "execution_count": null,
   "metadata": {},
   "outputs": [],
   "source": [
    "lines = sb[0][0][1].split('\\n')\n",
    "lines"
   ]
  },
  {
   "cell_type": "code",
   "execution_count": null,
   "metadata": {},
   "outputs": [],
   "source": [
    "good_lines = s[0][1].split('\\n')\n",
    "good_lines"
   ]
  },
  {
   "cell_type": "code",
   "execution_count": null,
   "metadata": {},
   "outputs": [],
   "source": [
    "s[0][1]"
   ]
  },
  {
   "cell_type": "code",
   "execution_count": null,
   "metadata": {},
   "outputs": [],
   "source": [
    "len(lines)"
   ]
  },
  {
   "cell_type": "code",
   "execution_count": null,
   "metadata": {},
   "outputs": [],
   "source": [
    "new_line = sb[0][0][1].split('<POR>',1)[0] + \"</Award>\\n</rootTag>\\n\""
   ]
  },
  {
   "cell_type": "code",
   "execution_count": null,
   "metadata": {},
   "outputs": [],
   "source": [
    "elem = ET.fromstring(new_line)\n",
    "for c1 in elem:\n",
    "    for c2 in c1:\n",
    "        print(c2.tag, c2.text)\n",
    "        for c3 in c2:\n",
    "            print(\"\\t\", c3.tag, c3.text)"
   ]
  },
  {
   "cell_type": "code",
   "execution_count": null,
   "metadata": {},
   "outputs": [],
   "source": [
    "import xml.etree.ElementTree as ET\n",
    "\n",
    "def getIDCount3(e):\n",
    "    PIs = []\n",
    "    try:\n",
    "        elem = ET.fromstring(e[1])\n",
    "    except:\n",
    "        elem = ET.fromstring(e[1].split('<POR>',1)[0] + \"</Award>\\n</rootTag>\\n\")\n",
    "\n",
    "    for n in elem.findall(\"./Award/Investigator/NSF_ID\"):\n",
    "            if (n.text != ''):\n",
    "                PIs.append((n.text,1))\n",
    "    return PIs\n",
    "print(getIDCount3(s[0]))\n",
    "print(getIDCount3(sb[0][0]))"
   ]
  },
  {
   "cell_type": "code",
   "execution_count": null,
   "metadata": {},
   "outputs": [],
   "source": [
    "tmp = raw_data.flatMap(getIDCount)\n",
    "tmp.count()"
   ]
  },
  {
   "cell_type": "code",
   "execution_count": null,
   "metadata": {},
   "outputs": [],
   "source": [
    "NSF = tmp.reduceByKey(lambda x, y: x + y).cache()\n",
    "NSF.count()"
   ]
  },
  {
   "cell_type": "code",
   "execution_count": null,
   "metadata": {},
   "outputs": [],
   "source": [
    "NSF.takeOrdered(50, key = lambda x: -x[1])"
   ]
  },
  {
   "cell_type": "code",
   "execution_count": null,
   "metadata": {},
   "outputs": [],
   "source": []
  }
 ],
 "metadata": {
  "kernelspec": {
   "display_name": "Python 3",
   "language": "python",
   "name": "python3"
  },
  "language_info": {
   "codemirror_mode": {
    "name": "ipython",
    "version": 3
   },
   "file_extension": ".py",
   "mimetype": "text/x-python",
   "name": "python",
   "nbconvert_exporter": "python",
   "pygments_lexer": "ipython3",
   "version": "3.8.5"
  }
 },
 "nbformat": 4,
 "nbformat_minor": 4
}
